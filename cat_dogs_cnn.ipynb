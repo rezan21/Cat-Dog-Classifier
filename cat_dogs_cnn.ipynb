{
 "cells": [
  {
   "cell_type": "code",
   "execution_count": 1,
   "metadata": {},
   "outputs": [],
   "source": [
    "import sys\n",
    "sys.path.insert(1, '/Users') # to bring module from different directory\n",
    "import _localEnv # local module\n",
    "import os\n",
    "import numpy as np\n",
    "import matplotlib.pyplot as plt\n",
    "import cv2 # processing images\n",
    "from tqdm import tqdm # progress bar\n",
    "import random\n",
    "import tensorflow as tf\n",
    "from tensorflow.keras.models import Sequential\n",
    "from tensorflow.keras.layers import Dense, Dropout, Activation, Flatten, Conv2D, MaxPooling2D\n",
    "from sklearn.model_selection import train_test_split\n",
    "import pandas as pd\n"
   ]
  },
  {
   "cell_type": "code",
   "execution_count": 4,
   "metadata": {},
   "outputs": [
    {
     "name": "stderr",
     "output_type": "stream",
     "text": [
      "  0%|          | 35/12501 [00:00<00:36, 345.59it/s]"
     ]
    },
    {
     "name": "stdout",
     "output_type": "stream",
     "text": [
      "category:  Dog\n",
      "path:  /Users/rezanaghshineh/workspace/Cat-Dog-Classifier/catsanddogs/Dog\n",
      "class number:  0\n",
      "iterating in /Users/rezanaghshineh/workspace/Cat-Dog-Classifier/catsanddogs/Dog\n"
     ]
    },
    {
     "name": "stderr",
     "output_type": "stream",
     "text": [
      "100%|██████████| 12501/12501 [00:23<00:00, 530.40it/s]\n",
      "  0%|          | 52/12501 [00:00<00:24, 516.72it/s]"
     ]
    },
    {
     "name": "stdout",
     "output_type": "stream",
     "text": [
      "category:  Cat\n",
      "path:  /Users/rezanaghshineh/workspace/Cat-Dog-Classifier/catsanddogs/Cat\n",
      "class number:  1\n",
      "iterating in /Users/rezanaghshineh/workspace/Cat-Dog-Classifier/catsanddogs/Cat\n"
     ]
    },
    {
     "name": "stderr",
     "output_type": "stream",
     "text": [
      "100%|██████████| 12501/12501 [00:22<00:00, 557.09it/s]\n"
     ]
    }
   ],
   "source": [
    "DATADIR = f'/Users/{_localEnv.user}/workspace/Cat-Dog-Classifier/catsanddogs' # data folder\n",
    "CATEGORIES = ['Dog', 'Cat'] # sub-folders in data folder\n",
    "IMAGE_SIZE = 60 # pixels\n",
    "\n",
    "training_data = []\n",
    "def create_training_data():\n",
    "    for category in CATEGORIES: # for each category\n",
    "        print(\"category: \",category)\n",
    "        path = os.path.join(DATADIR, category) # path to cat or dog folder\n",
    "        print(\"path: \",path)\n",
    "        class_num = CATEGORIES.index(category) # class label is based on the index (0 or 1)\n",
    "        print(\"class number: \",class_num)\n",
    "        print(f\"iterating in {path}\")\n",
    "        for img_name in tqdm(os.listdir(path)): # iterate over all images within each category directory\n",
    "            try:\n",
    "                #print(\"img name: \",img_name)\n",
    "                img_file = os.path.join(path, img_name) # path to each image\n",
    "                img_arr = cv2.imread(img_file, cv2.IMREAD_GRAYSCALE) # convert image to array in gray scale\n",
    "                resized_img_arr = cv2.resize(img_arr, (IMAGE_SIZE, IMAGE_SIZE)) # resize width x height\n",
    "                #print(\"img_file: \",img_file)\n",
    "                #print(\"-------\")\n",
    "                training_data.append([resized_img_arr, class_num]) # add a list containing the features and its label to a bigger list of all samples\n",
    "            except Exception as e:\n",
    "                #print(e)\n",
    "                pass\n",
    "            \n",
    "create_training_data() # call function"
   ]
  },
  {
   "cell_type": "code",
   "execution_count": 5,
   "metadata": {},
   "outputs": [
    {
     "data": {
      "text/plain": [
       "(60, 60, 1)"
      ]
     },
     "execution_count": 5,
     "metadata": {},
     "output_type": "execute_result"
    }
   ],
   "source": [
    "random.shuffle(training_data) # shuffle data\n",
    "\n",
    "X = []\n",
    "y = []\n",
    "for features, label in training_data:\n",
    "    X.append(features)\n",
    "    y.append(label)\n",
    "    \n",
    "X = np.array(X) # must be np array\n",
    "X = X.reshape(-1, IMAGE_SIZE, IMAGE_SIZE, 1) # -1 is all, then by the dimensions of each image, and the last 1 is for gray scale. if it was rgb, then use 3\n",
    "X = X / 255.0 # normalize\n",
    "\n",
    "y = np.array(y) # must be np array\n",
    "\n",
    "X[0].shape # each image is 60x60 by 1 gray color"
   ]
  },
  {
   "cell_type": "code",
   "execution_count": 6,
   "metadata": {},
   "outputs": [],
   "source": [
    "X_train, X_test, y_train, y_test = train_test_split(X, y, test_size=0.3) # train/test split\n",
    "\n",
    "model = Sequential()\n",
    "# input layer\n",
    "model.add(Conv2D(64, (3,3), input_shape=X.shape[1:], activation=\"relu\")) # convolution layer: 64 neurons, 3x3 conv window & input shape 60x60x1\n",
    "model.add(MaxPooling2D(pool_size=(2,2))) # Pooling layer: 2x2 pooling window\n",
    "\n",
    "# layer 2\n",
    "model.add(Conv2D(64, (3,3), activation=\"relu\"))\n",
    "model.add(MaxPooling2D(pool_size=(2,2)))\n",
    "\n",
    "# layer 3\n",
    "model.add(Flatten()) # Convert 3D Feature to 1D before Dense layer\n",
    "model.add(Dense(64))\n",
    "\n",
    "# output layer\n",
    "model.add(Dense(1, activation=\"sigmoid\"))\n",
    "\n",
    "model.compile(loss=\"binary_crossentropy\", optimizer=\"Adam\", metrics = ['accuracy'] )"
   ]
  },
  {
   "cell_type": "code",
   "execution_count": 10,
   "metadata": {},
   "outputs": [
    {
     "name": "stdout",
     "output_type": "stream",
     "text": [
      "Train on 17462 samples, validate on 7484 samples\n",
      "Epoch 1/5\n",
      "17462/17462 [==============================] - 144s 8ms/sample - loss: 0.6497 - accuracy: 0.6219 - val_loss: 0.5661 - val_accuracy: 0.7092\n",
      "Epoch 2/5\n",
      "17462/17462 [==============================] - 127s 7ms/sample - loss: 0.5639 - accuracy: 0.7106 - val_loss: 0.5274 - val_accuracy: 0.7402\n",
      "Epoch 3/5\n",
      "17462/17462 [==============================] - 129s 7ms/sample - loss: 0.5096 - accuracy: 0.7517 - val_loss: 0.5140 - val_accuracy: 0.7493\n",
      "Epoch 4/5\n",
      "17462/17462 [==============================] - 135s 8ms/sample - loss: 0.4758 - accuracy: 0.7758 - val_loss: 0.5144 - val_accuracy: 0.7465\n",
      "Epoch 5/5\n",
      "17462/17462 [==============================] - 127s 7ms/sample - loss: 0.4414 - accuracy: 0.7985 - val_loss: 0.5017 - val_accuracy: 0.7606\n"
     ]
    },
    {
     "data": {
      "text/plain": [
       "<matplotlib.axes._subplots.AxesSubplot at 0x1a74e795d0>"
      ]
     },
     "execution_count": 10,
     "metadata": {},
     "output_type": "execute_result"
    },
    {
     "data": {
      "image/png": "[encoded data removed]",
      "text/plain": [
       "<Figure size 432x288 with 1 Axes>"
      ]
     },
     "metadata": {
      "needs_background": "light"
     },
     "output_type": "display_data"
    }
   ],
   "source": [
    "model.fit(X_train, y_train, batch_size=32, epochs=5, validation_data=(X_test, y_test))\n",
    "\n",
    "table = pd.DataFrame(model.history.history)\n",
    "table.plot()"
   ]
  },
  {
   "cell_type": "code",
   "execution_count": null,
   "metadata": {},
   "outputs": [],
   "source": []
  }
 ],
 "metadata": {
  "kernelspec": {
   "display_name": "Python 3",
   "language": "python",
   "name": "python3"
  },
  "language_info": {
   "codemirror_mode": {
    "name": "ipython",
    "version": 3
   },
   "file_extension": ".py",
   "mimetype": "text/x-python",
   "name": "python",
   "nbconvert_exporter": "python",
   "pygments_lexer": "ipython3",
   "version": "3.7.4"
  }
 },
 "nbformat": 4,
 "nbformat_minor": 4
}
